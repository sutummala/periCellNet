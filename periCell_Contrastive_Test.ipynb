{
  "nbformat": 4,
  "nbformat_minor": 0,
  "metadata": {
    "colab": {
      "name": "periCell_Contrastive_Test.ipynb",
      "provenance": [],
      "authorship_tag": "ABX9TyPsH3GGOUDsCGOpYRx7HNrj",
      "include_colab_link": true
    },
    "kernelspec": {
      "name": "python3",
      "display_name": "Python 3"
    },
    "language_info": {
      "name": "python"
    }
  },
  "cells": [
    {
      "cell_type": "markdown",
      "metadata": {
        "id": "view-in-github",
        "colab_type": "text"
      },
      "source": [
        "<a href=\"https://colab.research.google.com/github/sutummala/periCellNet/blob/main/periCell_Contrastive_Test.ipynb\" target=\"_parent\"><img src=\"https://colab.research.google.com/assets/colab-badge.svg\" alt=\"Open In Colab\"/></a>"
      ]
    },
    {
      "cell_type": "code",
      "execution_count": null,
      "metadata": {
        "id": "O8htkCSqfGss"
      },
      "outputs": [],
      "source": [
        "from google.colab import drive\n",
        "drive.mount('/content/drive')"
      ]
    },
    {
      "cell_type": "code",
      "source": [
        "!apt-get install -y -qq software-properties-common python-software-properties module-init-tools\n",
        "!add-apt-repository -y ppa:alessandro-strada/ppa 2>&1 > /dev/null\n",
        "!apt-get update -qq 2>&1 > /dev/null\n",
        "!apt-get -y install -qq google-drive-ocamlfuse fuse\n",
        "from google.colab import auth\n",
        "auth.authenticate_user()\n",
        "from oauth2client.client import GoogleCredentials\n",
        "creds = GoogleCredentials.get_application_default()\n",
        "import getpass\n",
        "!google-drive-ocamlfuse -headless -id={creds.client_id} -secret={creds.client_secret} < /dev/null 2>&1 | grep URL\n",
        "vcode = getpass.getpass()\n",
        "!echo {vcode} | google-drive-ocamlfuse -headless -id={creds.client_id} -secret={creds.client_secret}\n",
        "%cd /content\n",
        "!mkdir drive\n",
        "%cd drive\n",
        "!mkdir MyDrive\n",
        "%cd ..\n",
        "%cd ..\n",
        "!google-drive-ocamlfuse /content/drive/MyDrive"
      ],
      "metadata": {
        "colab": {
          "base_uri": "https://localhost:8080/"
        },
        "id": "VcNLsX6DfYlr",
        "outputId": "72323b3a-4bec-4f9b-e992-f7b3747e07cf"
      },
      "execution_count": null,
      "outputs": [
        {
          "output_type": "stream",
          "name": "stdout",
          "text": [
            "E: Package 'python-software-properties' has no installation candidate\n",
            "Selecting previously unselected package google-drive-ocamlfuse.\n",
            "(Reading database ... 155225 files and directories currently installed.)\n",
            "Preparing to unpack .../google-drive-ocamlfuse_0.7.27-0ubuntu1~ubuntu18.04.1_amd64.deb ...\n",
            "Unpacking google-drive-ocamlfuse (0.7.27-0ubuntu1~ubuntu18.04.1) ...\n",
            "Setting up google-drive-ocamlfuse (0.7.27-0ubuntu1~ubuntu18.04.1) ...\n",
            "Processing triggers for man-db (2.8.3-2ubuntu0.1) ...\n",
            "Please, open the following URL in a web browser: https://accounts.google.com/o/oauth2/auth?client_id=32555940559.apps.googleusercontent.com&redirect_uri=urn%3Aietf%3Awg%3Aoauth%3A2.0%3Aoob&scope=https%3A%2F%2Fwww.googleapis.com%2Fauth%2Fdrive&response_type=code&access_type=offline&approval_prompt=force\n",
            "··········\n",
            "Please, open the following URL in a web browser: https://accounts.google.com/o/oauth2/auth?client_id=32555940559.apps.googleusercontent.com&redirect_uri=urn%3Aietf%3Awg%3Aoauth%3A2.0%3Aoob&scope=https%3A%2F%2Fwww.googleapis.com%2Fauth%2Fdrive&response_type=code&access_type=offline&approval_prompt=force\n",
            "Please enter the verification code: Access token retrieved correctly.\n",
            "/content\n",
            "/content/drive\n",
            "/content\n",
            "/\n"
          ]
        }
      ]
    },
    {
      "cell_type": "code",
      "source": [
        "import os\n",
        "import tensorflow as tf\n",
        "#import tensorflow_addons as tfa\n",
        "from tensorflow import keras\n",
        "from tensorflow.keras import backend as K\n",
        "from tensorflow.keras import layers\n",
        "#import tensorflow_addons as tfa\n",
        "from sklearn.model_selection import StratifiedKFold, cross_val_score\n",
        "import sklearn\n",
        "import nibabel as nib\n",
        "import numpy as np\n",
        "import random\n",
        "import matplotlib.pyplot as plt\n",
        "from skimage.transform import resize\n",
        "from IPython.display import Image, display\n",
        "import matplotlib.cm as cm\n",
        "import cv2"
      ],
      "metadata": {
        "id": "8lvpGC7bfh26"
      },
      "execution_count": null,
      "outputs": []
    },
    {
      "cell_type": "code",
      "source": [
        "hel_path = '/content/drive/MyDrive/Datasets/turkey/type1'\n",
        "all_path = '/content/drive/MyDrive/Datasets/turkey/type2'"
      ],
      "metadata": {
        "id": "p1yy79tCgmBu"
      },
      "execution_count": null,
      "outputs": []
    },
    {
      "cell_type": "code",
      "source": [
        "def get_array(path):\n",
        "  mat = []\n",
        "  for file in os.listdir(path):\n",
        "    img = cv2.imread(os.path.join(path, file))\n",
        "    img = resize(img, (300, 300), anti_aliasing=True)\n",
        "    img = (img-np.min(img))/(np.max(img)-np.min(img))\n",
        "    mat.append(img*255)\n",
        "  return np.array(mat)"
      ],
      "metadata": {
        "id": "CcyY8OZcidO3"
      },
      "execution_count": null,
      "outputs": []
    },
    {
      "cell_type": "code",
      "source": [
        "healthy_imgs = get_array(hel_path)\n",
        "all_imgs = get_array(all_path)"
      ],
      "metadata": {
        "id": "H5q3hCIQnWJ0"
      },
      "execution_count": null,
      "outputs": []
    },
    {
      "cell_type": "code",
      "source": [
        "print(np.min(healthy_imgs), np.max(healthy_imgs))\n",
        "print(np.min(all_imgs), np.max(all_imgs))"
      ],
      "metadata": {
        "colab": {
          "base_uri": "https://localhost:8080/"
        },
        "id": "Px5CQ9_Nzntp",
        "outputId": "a5b13eb3-bfb6-4229-8885-a07cb9c53f6c"
      },
      "execution_count": null,
      "outputs": [
        {
          "output_type": "stream",
          "name": "stdout",
          "text": [
            "0.0 255.0\n",
            "0.0 255.0\n"
          ]
        }
      ]
    },
    {
      "cell_type": "code",
      "source": [
        "print(healthy_imgs.shape)\n",
        "print(all_imgs.shape)"
      ],
      "metadata": {
        "colab": {
          "base_uri": "https://localhost:8080/"
        },
        "id": "hGHmw_VipSVD",
        "outputId": "9f58ce09-5f68-4cf7-c333-ea34bf5221be"
      },
      "execution_count": null,
      "outputs": [
        {
          "output_type": "stream",
          "name": "stdout",
          "text": [
            "(67, 300, 300, 3)\n",
            "(29, 300, 300, 3)\n"
          ]
        }
      ]
    },
    {
      "cell_type": "code",
      "source": [
        "def contrastive_loss(y_true, y_pred):\n",
        "    margin = 1\n",
        "    square_pred = K.square(y_pred)\n",
        "    margin_square = K.square(K.maximum(margin - y_pred, 0))\n",
        "    return K.mean((1-y_true) * square_pred + y_true * margin_square)"
      ],
      "metadata": {
        "id": "avIwJGGDoEBf"
      },
      "execution_count": null,
      "outputs": []
    },
    {
      "cell_type": "code",
      "source": [
        "siamese_model = tf.keras.models.load_model('/content/drive/MyDrive/periCellNet/siamese_pericell_model_adam_0.001_16_15', custom_objects={'contrastive_loss':contrastive_loss})"
      ],
      "metadata": {
        "id": "J50Xxt_nn7n_"
      },
      "execution_count": null,
      "outputs": []
    },
    {
      "cell_type": "code",
      "source": [
        "def generate_support_set():\n",
        "\n",
        "  # Generating random indices for creating Support Set\n",
        "  hel_index = random.randint(0, np.shape(healthy_imgs)[0]-1)\n",
        "  all_index = random.randint(0, np.shape(all_imgs)[0]-1)\n",
        "  \n",
        "  support_set = np.concatenate((np.expand_dims(healthy_imgs[hel_index, :, :, :], axis=0),\n",
        "                                np.expand_dims(all_imgs[all_index, :, :, :], axis=0)))\n",
        "\n",
        "  return support_set\n",
        "\n"
      ],
      "metadata": {
        "id": "wb3J09sipALo"
      },
      "execution_count": null,
      "outputs": []
    },
    {
      "cell_type": "code",
      "execution_count": null,
      "metadata": {
        "colab": {
          "base_uri": "https://localhost:8080/"
        },
        "id": "fsOUhoWZ0H9i",
        "outputId": "1a66e226-2465-4311-a91c-8555831aa90c"
      },
      "outputs": [
        {
          "output_type": "stream",
          "name": "stdout",
          "text": [
            "Doing 2-way 7-shot classification\n",
            "calculating accuracy for hel\n",
            "accuracy for predicting hel is 0.8656716417910447\n",
            "calculating accuracy for all\n",
            "accuracy for predicting all is 0.5172413793103449\n",
            "Overall Accuracy is 0.6914565105506948\n"
          ]
        }
      ],
      "source": [
        "# 2-way few-shot learning/verification starts here\n",
        "\n",
        "is_CAM = False\n",
        "\n",
        "cell_types = ['hel', 'all']\n",
        "\n",
        "overall_accuracy = 0\n",
        "true_cell_labels = []\n",
        "predicted_cell_labels = []\n",
        "k_shot = 7 # parameter that controls the number of shots\n",
        "\n",
        "print(f'Doing 2-way {k_shot}-shot classification')\n",
        "\n",
        "for cells in cell_types:\n",
        "  if cells == 'hel':\n",
        "    print(f'calculating accuracy for {cells}')\n",
        "    cell = healthy_imgs\n",
        "    cell_labels = np.zeros(np.shape(healthy_imgs)[0])\n",
        "  elif cells == 'all':\n",
        "    print(f'calculating accuracy for {cells}')\n",
        "    cell = all_imgs\n",
        "    cell_labels = np.ones(np.shape(all_imgs)[0])\n",
        "\n",
        "  correct_predictions = 0 # Initializing for calculating accuracy\n",
        "  #true_cell_labels.append(cell_labels)\n",
        "  for c in range(0, np.shape(cell)[0]-1):\n",
        "\n",
        "      query_image = np.expand_dims(cell[c, :, :, :], axis=0) # Expanding dimension of the cell image \n",
        "      query_images = np.repeat(query_image, repeats = 2, axis = 0) # Making 2 copies of the query image\n",
        "      #query_images = query_images[:, 30:330, 30:330, :] # doing center cropping\n",
        "      #query_images = tf.keras.applications.resnet50.preprocess_input(query_images)\n",
        "\n",
        "      # predicting on a query image\n",
        "      query_predictions = np.zeros((2, 1))\n",
        "      for k in range(k_shot): # Doing prediction for k-shot learning\n",
        "        support_set = generate_support_set() # Generating support-set for k-shot learning, one image for each class label\n",
        "        #support_set = tf.keras.applications.resnet50.preprocess_input(support_set)\n",
        "        predictions = siamese_model.predict([query_images, support_set])\n",
        "        #predictions = siamese_model.predict([tf.image.resize(query_images, [380, 380]), tf.image.resize(support_set, [380, 380])])\n",
        "        query_predictions += predictions\n",
        "        \n",
        "        if is_CAM: # Doing this for one image of each cell type\n",
        "          plot_L1 = True\n",
        "          plot_heat_map_low_res = False\n",
        "          print(f'doing activation mapping for {cells} image shown below')\n",
        "          plt.imshow(np.squeeze(query_image)) # plotting the query image\n",
        "          plt.axis('off')\n",
        "          plt.show()\n",
        "\n",
        "          for image_index in range(len(query_images)): # This block extracts the L1-norm and do CAM plotting between query and support set images\n",
        "            print(f'plotting L1_norm and heatmaps for the {cells} query image w.r.t support set image {cell_types[image_index]}')\n",
        "            Siamese_CAM(query_images[image_index], support_set[image_index], plot_L1, plot_heat_map_low_res)\n",
        "      \n",
        "      #print(query_predictions)  \n",
        "      predicted_label = np.argmin(query_predictions)\n",
        "      predicted_cell_labels.append(predicted_label)\n",
        "      true_cell_labels.append(cell_labels[c])\n",
        "      #print(np.transpose(query_predictions))\n",
        "      #print(f'actual label is {erythroblast_labels[c]}, predicted label is {predicted_label}')\n",
        "      if cell_labels[c] == predicted_label:\n",
        "        correct_predictions += 1\n",
        "  \n",
        "  accuracy = correct_predictions/(np.shape(cell)[0]) # Use it for testing \n",
        "  #accuracy = correct_predictions/(index) # Use it for validation\n",
        "  print(f'accuracy for predicting {cells} is {accuracy}')\n",
        "  overall_accuracy = accuracy + overall_accuracy\n",
        "\n",
        "overall_accuracy = overall_accuracy/2 # the denominator is the number of labels\n",
        "print(f'Overall Accuracy is {overall_accuracy}')\n"
      ]
    },
    {
      "cell_type": "code",
      "source": [
        "from sklearn.metrics import confusion_matrix\n",
        "import seaborn as sns\n",
        "\n",
        "confusion_mat = confusion_matrix(true_cell_labels, predicted_cell_labels, normalize = 'true')\n",
        "class_names = ['non-ALL', 'ALL']\n",
        "#print(confusion_mat)\n",
        "\n",
        "# Plotting multilabel confusion matrix in a beautiful manner\n",
        "sns.set(font_scale=2)\n",
        "fig = plt.figure(figsize=(8, 6))\n",
        "ax= plt.subplot()\n",
        "sns.heatmap(confusion_mat*100, annot=True, vmin = 0, vmax = 100, ax = ax, cmap = 'YlGnBu', fmt = '2.2f'); #annot=True to annotate cells\n",
        "# labels, title and ticks\n",
        "ax.set_xlabel('Predicted Class\\n Overall Accuracy 65.41 %', fontsize=25)\n",
        "ax.xaxis.set_label_position('bottom')\n",
        "plt.xticks(rotation=45)\n",
        "ax.xaxis.set_ticklabels(class_names, fontsize = 20)\n",
        "ax.xaxis.tick_bottom()\n",
        "\n",
        "ax.set_ylabel('True Class', fontsize=25)\n",
        "ax.yaxis.set_ticklabels(class_names, fontsize = 20)\n",
        "plt.yticks(rotation=0)\n",
        "\n",
        "plt.title('Confusion Matrix 2-way 3-shot', fontsize=25)\n",
        "\n",
        "plt.show()"
      ],
      "metadata": {
        "colab": {
          "base_uri": "https://localhost:8080/",
          "height": 518
        },
        "id": "EeYKXu182J6N",
        "outputId": "6a24c2bb-e2aa-4703-98ce-6e95ae1f05c6"
      },
      "execution_count": null,
      "outputs": [
        {
          "output_type": "display_data",
          "data": {
            "image/png": "[encoded data removed]",
            "text/plain": [
              "<Figure size 576x432 with 2 Axes>"
            ]
          },
          "metadata": {}
        }
      ]
    }
  ]
}