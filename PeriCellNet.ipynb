{
  "nbformat": 4,
  "nbformat_minor": 0,
  "metadata": {
    "colab": {
      "name": "PeriCellNet.ipynb",
      "provenance": [],
      "collapsed_sections": [],
      "machine_shape": "hm",
      "authorship_tag": "ABX9TyP7y8nPcnpg1/AQVP2BoPox",
      "include_colab_link": true
    },
    "kernelspec": {
      "name": "python3",
      "display_name": "Python 3"
    },
    "language_info": {
      "name": "python"
    },
    "accelerator": "GPU"
  },
  "cells": [
    {
      "cell_type": "markdown",
      "metadata": {
        "id": "view-in-github",
        "colab_type": "text"
      },
      "source": [
        "<a href=\"https://colab.research.google.com/github/sutummala/periCellNet/blob/main/PeriCellNet.ipynb\" target=\"_parent\"><img src=\"https://colab.research.google.com/assets/colab-badge.svg\" alt=\"Open In Colab\"/></a>"
      ]
    },
    {
      "cell_type": "code",
      "metadata": {
        "colab": {
          "base_uri": "https://localhost:8080/"
        },
        "id": "aLweLJBD7xpJ",
        "outputId": "ed1033a0-8bca-4b57-857d-1e7d8d30c6eb"
      },
      "source": [
        "# CPU model and speed\n",
        "!lscpu |grep 'Model name'"
      ],
      "execution_count": null,
      "outputs": [
        {
          "output_type": "stream",
          "name": "stdout",
          "text": [
            "Model name:          Intel(R) Xeon(R) CPU @ 2.30GHz\n"
          ]
        }
      ]
    },
    {
      "cell_type": "code",
      "metadata": {
        "colab": {
          "base_uri": "https://localhost:8080/"
        },
        "id": "ZOlMWFn37yaV",
        "outputId": "584dd79b-9093-49f3-e294-6e808c1e8ada"
      },
      "source": [
        "# GPU Specs\n",
        "!nvidia-smi -L"
      ],
      "execution_count": null,
      "outputs": [
        {
          "output_type": "stream",
          "name": "stdout",
          "text": [
            "GPU 0: Tesla P100-PCIE-16GB (UUID: GPU-d27004f3-9300-7aa6-5324-14cd977cc459)\n"
          ]
        }
      ]
    },
    {
      "cell_type": "code",
      "metadata": {
        "colab": {
          "base_uri": "https://localhost:8080/"
        },
        "id": "G3vqxcji732H",
        "outputId": "09348b08-cbe1-483a-e280-7c6353b6cbc4"
      },
      "source": [
        "# GPU Type\n",
        "!nvidia-smi"
      ],
      "execution_count": null,
      "outputs": [
        {
          "output_type": "stream",
          "name": "stdout",
          "text": [
            "Sat Nov 13 13:35:32 2021       \n",
            "+-----------------------------------------------------------------------------+\n",
            "| NVIDIA-SMI 495.44       Driver Version: 460.32.03    CUDA Version: 11.2     |\n",
            "|-------------------------------+----------------------+----------------------+\n",
            "| GPU  Name        Persistence-M| Bus-Id        Disp.A | Volatile Uncorr. ECC |\n",
            "| Fan  Temp  Perf  Pwr:Usage/Cap|         Memory-Usage | GPU-Util  Compute M. |\n",
            "|                               |                      |               MIG M. |\n",
            "|===============================+======================+======================|\n",
            "|   0  Tesla P100-PCIE...  Off  | 00000000:00:04.0 Off |                    0 |\n",
            "| N/A   34C    P0    26W / 250W |      0MiB / 16280MiB |      0%      Default |\n",
            "|                               |                      |                  N/A |\n",
            "+-------------------------------+----------------------+----------------------+\n",
            "                                                                               \n",
            "+-----------------------------------------------------------------------------+\n",
            "| Processes:                                                                  |\n",
            "|  GPU   GI   CI        PID   Type   Process name                  GPU Memory |\n",
            "|        ID   ID                                                   Usage      |\n",
            "|=============================================================================|\n",
            "|  No running processes found                                                 |\n",
            "+-----------------------------------------------------------------------------+\n"
          ]
        }
      ]
    },
    {
      "cell_type": "code",
      "metadata": {
        "colab": {
          "base_uri": "https://localhost:8080/"
        },
        "id": "x7k7qEm6Tj4B",
        "outputId": "576ab2ec-64e5-468c-9c71-74bd60d0d32b"
      },
      "source": [
        "!pip install -U tensorflow-addons"
      ],
      "execution_count": null,
      "outputs": [
        {
          "output_type": "stream",
          "name": "stdout",
          "text": [
            "Collecting tensorflow-addons\n",
            "  Downloading tensorflow_addons-0.15.0-cp37-cp37m-manylinux_2_12_x86_64.manylinux2010_x86_64.whl (1.1 MB)\n",
            "\u001b[?25l\r\u001b[K     |▎                               | 10 kB 29.8 MB/s eta 0:00:01\r\u001b[K     |▋                               | 20 kB 20.4 MB/s eta 0:00:01\r\u001b[K     |▉                               | 30 kB 16.7 MB/s eta 0:00:01\r\u001b[K     |█▏                              | 40 kB 15.3 MB/s eta 0:00:01\r\u001b[K     |█▌                              | 51 kB 7.9 MB/s eta 0:00:01\r\u001b[K     |█▊                              | 61 kB 7.8 MB/s eta 0:00:01\r\u001b[K     |██                              | 71 kB 8.1 MB/s eta 0:00:01\r\u001b[K     |██▍                             | 81 kB 9.1 MB/s eta 0:00:01\r\u001b[K     |██▋                             | 92 kB 9.7 MB/s eta 0:00:01\r\u001b[K     |███                             | 102 kB 7.7 MB/s eta 0:00:01\r\u001b[K     |███▎                            | 112 kB 7.7 MB/s eta 0:00:01\r\u001b[K     |███▌                            | 122 kB 7.7 MB/s eta 0:00:01\r\u001b[K     |███▉                            | 133 kB 7.7 MB/s eta 0:00:01\r\u001b[K     |████▏                           | 143 kB 7.7 MB/s eta 0:00:01\r\u001b[K     |████▍                           | 153 kB 7.7 MB/s eta 0:00:01\r\u001b[K     |████▊                           | 163 kB 7.7 MB/s eta 0:00:01\r\u001b[K     |█████                           | 174 kB 7.7 MB/s eta 0:00:01\r\u001b[K     |█████▎                          | 184 kB 7.7 MB/s eta 0:00:01\r\u001b[K     |█████▋                          | 194 kB 7.7 MB/s eta 0:00:01\r\u001b[K     |█████▉                          | 204 kB 7.7 MB/s eta 0:00:01\r\u001b[K     |██████▏                         | 215 kB 7.7 MB/s eta 0:00:01\r\u001b[K     |██████▌                         | 225 kB 7.7 MB/s eta 0:00:01\r\u001b[K     |██████▊                         | 235 kB 7.7 MB/s eta 0:00:01\r\u001b[K     |███████                         | 245 kB 7.7 MB/s eta 0:00:01\r\u001b[K     |███████▍                        | 256 kB 7.7 MB/s eta 0:00:01\r\u001b[K     |███████▋                        | 266 kB 7.7 MB/s eta 0:00:01\r\u001b[K     |████████                        | 276 kB 7.7 MB/s eta 0:00:01\r\u001b[K     |████████▎                       | 286 kB 7.7 MB/s eta 0:00:01\r\u001b[K     |████████▌                       | 296 kB 7.7 MB/s eta 0:00:01\r\u001b[K     |████████▉                       | 307 kB 7.7 MB/s eta 0:00:01\r\u001b[K     |█████████                       | 317 kB 7.7 MB/s eta 0:00:01\r\u001b[K     |█████████▍                      | 327 kB 7.7 MB/s eta 0:00:01\r\u001b[K     |█████████▊                      | 337 kB 7.7 MB/s eta 0:00:01\r\u001b[K     |██████████                      | 348 kB 7.7 MB/s eta 0:00:01\r\u001b[K     |██████████▎                     | 358 kB 7.7 MB/s eta 0:00:01\r\u001b[K     |██████████▋                     | 368 kB 7.7 MB/s eta 0:00:01\r\u001b[K     |██████████▉                     | 378 kB 7.7 MB/s eta 0:00:01\r\u001b[K     |███████████▏                    | 389 kB 7.7 MB/s eta 0:00:01\r\u001b[K     |███████████▌                    | 399 kB 7.7 MB/s eta 0:00:01\r\u001b[K     |███████████▊                    | 409 kB 7.7 MB/s eta 0:00:01\r\u001b[K     |████████████                    | 419 kB 7.7 MB/s eta 0:00:01\r\u001b[K     |████████████▍                   | 430 kB 7.7 MB/s eta 0:00:01\r\u001b[K     |████████████▋                   | 440 kB 7.7 MB/s eta 0:00:01\r\u001b[K     |█████████████                   | 450 kB 7.7 MB/s eta 0:00:01\r\u001b[K     |█████████████▎                  | 460 kB 7.7 MB/s eta 0:00:01\r\u001b[K     |█████████████▌                  | 471 kB 7.7 MB/s eta 0:00:01\r\u001b[K     |█████████████▉                  | 481 kB 7.7 MB/s eta 0:00:01\r\u001b[K     |██████████████                  | 491 kB 7.7 MB/s eta 0:00:01\r\u001b[K     |██████████████▍                 | 501 kB 7.7 MB/s eta 0:00:01\r\u001b[K     |██████████████▊                 | 512 kB 7.7 MB/s eta 0:00:01\r\u001b[K     |███████████████                 | 522 kB 7.7 MB/s eta 0:00:01\r\u001b[K     |███████████████▎                | 532 kB 7.7 MB/s eta 0:00:01\r\u001b[K     |███████████████▋                | 542 kB 7.7 MB/s eta 0:00:01\r\u001b[K     |███████████████▉                | 552 kB 7.7 MB/s eta 0:00:01\r\u001b[K     |████████████████▏               | 563 kB 7.7 MB/s eta 0:00:01\r\u001b[K     |████████████████▌               | 573 kB 7.7 MB/s eta 0:00:01\r\u001b[K     |████████████████▊               | 583 kB 7.7 MB/s eta 0:00:01\r\u001b[K     |█████████████████               | 593 kB 7.7 MB/s eta 0:00:01\r\u001b[K     |█████████████████▍              | 604 kB 7.7 MB/s eta 0:00:01\r\u001b[K     |█████████████████▋              | 614 kB 7.7 MB/s eta 0:00:01\r\u001b[K     |██████████████████              | 624 kB 7.7 MB/s eta 0:00:01\r\u001b[K     |██████████████████▏             | 634 kB 7.7 MB/s eta 0:00:01\r\u001b[K     |██████████████████▌             | 645 kB 7.7 MB/s eta 0:00:01\r\u001b[K     |██████████████████▉             | 655 kB 7.7 MB/s eta 0:00:01\r\u001b[K     |███████████████████             | 665 kB 7.7 MB/s eta 0:00:01\r\u001b[K     |███████████████████▍            | 675 kB 7.7 MB/s eta 0:00:01\r\u001b[K     |███████████████████▊            | 686 kB 7.7 MB/s eta 0:00:01\r\u001b[K     |████████████████████            | 696 kB 7.7 MB/s eta 0:00:01\r\u001b[K     |████████████████████▎           | 706 kB 7.7 MB/s eta 0:00:01\r\u001b[K     |████████████████████▋           | 716 kB 7.7 MB/s eta 0:00:01\r\u001b[K     |████████████████████▉           | 727 kB 7.7 MB/s eta 0:00:01\r\u001b[K     |█████████████████████▏          | 737 kB 7.7 MB/s eta 0:00:01\r\u001b[K     |█████████████████████▌          | 747 kB 7.7 MB/s eta 0:00:01\r\u001b[K     |█████████████████████▊          | 757 kB 7.7 MB/s eta 0:00:01\r\u001b[K     |██████████████████████          | 768 kB 7.7 MB/s eta 0:00:01\r\u001b[K     |██████████████████████▎         | 778 kB 7.7 MB/s eta 0:00:01\r\u001b[K     |██████████████████████▋         | 788 kB 7.7 MB/s eta 0:00:01\r\u001b[K     |███████████████████████         | 798 kB 7.7 MB/s eta 0:00:01\r\u001b[K     |███████████████████████▏        | 808 kB 7.7 MB/s eta 0:00:01\r\u001b[K     |███████████████████████▌        | 819 kB 7.7 MB/s eta 0:00:01\r\u001b[K     |███████████████████████▉        | 829 kB 7.7 MB/s eta 0:00:01\r\u001b[K     |████████████████████████        | 839 kB 7.7 MB/s eta 0:00:01\r\u001b[K     |████████████████████████▍       | 849 kB 7.7 MB/s eta 0:00:01\r\u001b[K     |████████████████████████▊       | 860 kB 7.7 MB/s eta 0:00:01\r\u001b[K     |█████████████████████████       | 870 kB 7.7 MB/s eta 0:00:01\r\u001b[K     |█████████████████████████▎      | 880 kB 7.7 MB/s eta 0:00:01\r\u001b[K     |█████████████████████████▋      | 890 kB 7.7 MB/s eta 0:00:01\r\u001b[K     |█████████████████████████▉      | 901 kB 7.7 MB/s eta 0:00:01\r\u001b[K     |██████████████████████████▏     | 911 kB 7.7 MB/s eta 0:00:01\r\u001b[K     |██████████████████████████▌     | 921 kB 7.7 MB/s eta 0:00:01\r\u001b[K     |██████████████████████████▊     | 931 kB 7.7 MB/s eta 0:00:01\r\u001b[K     |███████████████████████████     | 942 kB 7.7 MB/s eta 0:00:01\r\u001b[K     |███████████████████████████▎    | 952 kB 7.7 MB/s eta 0:00:01\r\u001b[K     |███████████████████████████▋    | 962 kB 7.7 MB/s eta 0:00:01\r\u001b[K     |████████████████████████████    | 972 kB 7.7 MB/s eta 0:00:01\r\u001b[K     |████████████████████████████▏   | 983 kB 7.7 MB/s eta 0:00:01\r\u001b[K     |████████████████████████████▌   | 993 kB 7.7 MB/s eta 0:00:01\r\u001b[K     |████████████████████████████▉   | 1.0 MB 7.7 MB/s eta 0:00:01\r\u001b[K     |█████████████████████████████   | 1.0 MB 7.7 MB/s eta 0:00:01\r\u001b[K     |█████████████████████████████▍  | 1.0 MB 7.7 MB/s eta 0:00:01\r\u001b[K     |█████████████████████████████▊  | 1.0 MB 7.7 MB/s eta 0:00:01\r\u001b[K     |██████████████████████████████  | 1.0 MB 7.7 MB/s eta 0:00:01\r\u001b[K     |██████████████████████████████▎ | 1.1 MB 7.7 MB/s eta 0:00:01\r\u001b[K     |██████████████████████████████▋ | 1.1 MB 7.7 MB/s eta 0:00:01\r\u001b[K     |██████████████████████████████▉ | 1.1 MB 7.7 MB/s eta 0:00:01\r\u001b[K     |███████████████████████████████▏| 1.1 MB 7.7 MB/s eta 0:00:01\r\u001b[K     |███████████████████████████████▍| 1.1 MB 7.7 MB/s eta 0:00:01\r\u001b[K     |███████████████████████████████▊| 1.1 MB 7.7 MB/s eta 0:00:01\r\u001b[K     |████████████████████████████████| 1.1 MB 7.7 MB/s \n",
            "\u001b[?25hRequirement already satisfied: typeguard>=2.7 in /usr/local/lib/python3.7/dist-packages (from tensorflow-addons) (2.7.1)\n",
            "Installing collected packages: tensorflow-addons\n",
            "Successfully installed tensorflow-addons-0.15.0\n"
          ]
        }
      ]
    },
    {
      "cell_type": "code",
      "metadata": {
        "id": "KPmcGeVky8Fq"
      },
      "source": [
        "import os\n",
        "import tensorflow as tf\n",
        "import tensorflow_addons as tfa\n",
        "from tensorflow import keras\n",
        "from tensorflow.keras import backend as K\n",
        "from tensorflow.keras import layers\n",
        "#import tensorflow_addons as tfa\n",
        "from sklearn.model_selection import StratifiedKFold, cross_val_score\n",
        "import sklearn\n",
        "import nibabel as nib\n",
        "import numpy as np\n",
        "import random\n",
        "import matplotlib.pyplot as plt"
      ],
      "execution_count": null,
      "outputs": []
    },
    {
      "cell_type": "code",
      "metadata": {
        "colab": {
          "base_uri": "https://localhost:8080/"
        },
        "id": "IHRjcLTqKYHY",
        "outputId": "aabbe761-0c36-4faa-d79e-18b98cf0af31"
      },
      "source": [
        "!apt-get install -y -qq software-properties-common python-software-properties module-init-tools\n",
        "!add-apt-repository -y ppa:alessandro-strada/ppa 2>&1 > /dev/null\n",
        "!apt-get update -qq 2>&1 > /dev/null\n",
        "!apt-get -y install -qq google-drive-ocamlfuse fuse\n",
        "from google.colab import auth\n",
        "auth.authenticate_user()\n",
        "from oauth2client.client import GoogleCredentials\n",
        "creds = GoogleCredentials.get_application_default()\n",
        "import getpass\n",
        "!google-drive-ocamlfuse -headless -id={creds.client_id} -secret={creds.client_secret} < /dev/null 2>&1 | grep URL\n",
        "vcode = getpass.getpass()\n",
        "!echo {vcode} | google-drive-ocamlfuse -headless -id={creds.client_id} -secret={creds.client_secret}\n",
        "%cd /content\n",
        "!mkdir drive\n",
        "%cd drive\n",
        "!mkdir MyDrive\n",
        "%cd ..\n",
        "%cd ..\n",
        "!google-drive-ocamlfuse /content/drive/MyDrive"
      ],
      "execution_count": null,
      "outputs": [
        {
          "output_type": "stream",
          "name": "stdout",
          "text": [
            "E: Package 'python-software-properties' has no installation candidate\n",
            "Selecting previously unselected package google-drive-ocamlfuse.\n",
            "(Reading database ... 155219 files and directories currently installed.)\n",
            "Preparing to unpack .../google-drive-ocamlfuse_0.7.27-0ubuntu1~ubuntu18.04.1_amd64.deb ...\n",
            "Unpacking google-drive-ocamlfuse (0.7.27-0ubuntu1~ubuntu18.04.1) ...\n",
            "Setting up google-drive-ocamlfuse (0.7.27-0ubuntu1~ubuntu18.04.1) ...\n",
            "Processing triggers for man-db (2.8.3-2ubuntu0.1) ...\n",
            "Please, open the following URL in a web browser: https://accounts.google.com/o/oauth2/auth?client_id=32555940559.apps.googleusercontent.com&redirect_uri=urn%3Aietf%3Awg%3Aoauth%3A2.0%3Aoob&scope=https%3A%2F%2Fwww.googleapis.com%2Fauth%2Fdrive&response_type=code&access_type=offline&approval_prompt=force\n",
            "··········\n",
            "Please, open the following URL in a web browser: https://accounts.google.com/o/oauth2/auth?client_id=32555940559.apps.googleusercontent.com&redirect_uri=urn%3Aietf%3Awg%3Aoauth%3A2.0%3Aoob&scope=https%3A%2F%2Fwww.googleapis.com%2Fauth%2Fdrive&response_type=code&access_type=offline&approval_prompt=force\n",
            "Please enter the verification code: Access token retrieved correctly.\n",
            "/content\n",
            "/content/drive\n",
            "/content\n",
            "/\n"
          ]
        }
      ]
    },
    {
      "cell_type": "code",
      "metadata": {
        "id": "pdVsp5t7y-xE",
        "colab": {
          "base_uri": "https://localhost:8080/"
        },
        "outputId": "1c008684-bd7c-4eb7-fce9-e50e4cef4f31"
      },
      "source": [
        "# Loading the google drive\n",
        "from google.colab import drive\n",
        "drive.mount('/content/drive')"
      ],
      "execution_count": null,
      "outputs": [
        {
          "output_type": "stream",
          "name": "stdout",
          "text": [
            "Mounted at /content/drive\n"
          ]
        }
      ]
    },
    {
      "cell_type": "code",
      "metadata": {
        "id": "6sJuUy9jy_k3"
      },
      "source": [
        "# Normalizing the input to have values between zero and one to make them suitable for further analysis\n",
        "def normalize(input):\n",
        "  norm_input = []\n",
        "  print(f'shape of input is {np.shape(input[0])}')\n",
        "  for i in range(np.shape(input)[0]):\n",
        "    norm_in = (input[i]-np.min(input[i]))/(np.max(input[i])-np.min(input[i]))\n",
        "    norm_input.append(norm_in)\n",
        "  return np.array(norm_input)"
      ],
      "execution_count": null,
      "outputs": []
    },
    {
      "cell_type": "code",
      "metadata": {
        "id": "52BT5MORzMuv"
      },
      "source": [
        "# Data paths for loading individual cells \n",
        "\n",
        "basophil = np.load('/content/drive/MyDrive/Datasets/PBC_dataset_normal_DIB/basophil.npy')\n",
        "print(f'basophil tensor shape is {basophil.shape}')\n",
        "basophil_labels = np.zeros(len(basophil))\n",
        "\n",
        "eosinophil = np.load('/content/drive/MyDrive/Datasets/PBC_dataset_normal_DIB/eosinophil.npy')\n",
        "print(f'eosinophil tensor shape is {eosinophil.shape}')\n",
        "eosinophil_labels = np.ones(len(eosinophil))\n",
        "\n",
        "ig = np.load('/content/drive/MyDrive/Datasets/PBC_dataset_normal_DIB/ig.npy')\n",
        "print(f'immature grannulocytes tensor shape is {ig.shape}')\n",
        "ig_labels = 2 * np.ones(len(ig))\n",
        "\n",
        "erythroblast = np.load('/content/drive/MyDrive/Datasets/PBC_dataset_normal_DIB/erythroblast.npy')\n",
        "print(f'erythroblast tensor shape is {erythroblast.shape}')\n",
        "erythroblast_labels = 3 * np.ones(len(erythroblast))\n",
        "\n",
        "lymphocyte = np.load('/content/drive/MyDrive/Datasets/PBC_dataset_normal_DIB/lymphocyte.npy')\n",
        "print(f'lymphocyte tensor shape is {lymphocyte.shape}')\n",
        "lymphocyte_labels = 4 * np.ones(len(lymphocyte))\n",
        "\n",
        "monocyte = np.load('/content/drive/MyDrive/Datasets/PBC_dataset_normal_DIB/monocyte.npy')\n",
        "print(f'monocyte tensor shape is {monocyte.shape}')\n",
        "monocyte_labels = 5 * np.ones(len(monocyte))\n",
        "\n",
        "platelet = np.load('/content/drive/MyDrive/Datasets/PBC_dataset_normal_DIB/platelet.npy')\n",
        "print(f'platelet tensor shape is {platelet.shape}')\n",
        "platelet_labels = 6 * np.ones(len(platelet))\n",
        "\n",
        "neutrophil = np.load('/content/drive/MyDrive/Datasets/PBC_dataset_normal_DIB/neutrophil.npy')\n",
        "print(f'neutrophil tensor shape is {neutrophil.shape}')\n",
        "neutrophil_labels =  7 * np.ones(len(neutrophil))\n"
      ],
      "execution_count": null,
      "outputs": []
    },
    {
      "cell_type": "code",
      "metadata": {
        "id": "48MlQ9S330qS"
      },
      "source": [
        "X = np.concatenate((basophil, eosinophil, ig, erythroblast, lymphocyte, monocyte, platelet, neutrophil))\n",
        "y = np.concatenate((basophil_labels, eosinophil_labels, ig_labels, erythroblast_labels, lymphocyte_labels, monocyte_labels, platelet_labels, neutrophil_labels))\n",
        "print(X.shape)\n",
        "print(y.shape)\n",
        "np.save('/content/drive/MyDrive/Datasets/PBC_dataset_normal_DIB/all_data', X)\n",
        "np.save('/content/drive/MyDrive/Datasets/PBC_dataset_normal_DIB/all_labels', y)"
      ],
      "execution_count": null,
      "outputs": []
    },
    {
      "cell_type": "code",
      "metadata": {
        "colab": {
          "base_uri": "https://localhost:8080/"
        },
        "id": "xtcbfM0WWzid",
        "outputId": "7b419c09-2b6d-46fa-8bd3-ab4ef03cc9eb"
      },
      "source": [
        "X = np.load('/content/drive/MyDrive/Datasets/PBC_dataset_normal_DIB/all_data.npy')\n",
        "y = np.load('/content/drive/MyDrive/Datasets/PBC_dataset_normal_DIB/all_labels.npy')\n",
        "print(X.shape)\n",
        "print(y.shape)\n",
        "print(np.unique(y))"
      ],
      "execution_count": null,
      "outputs": [
        {
          "output_type": "stream",
          "name": "stdout",
          "text": [
            "(17092, 358, 358, 3)\n",
            "(17092,)\n",
            "[0. 1. 2. 3. 4. 5. 6. 7.]\n"
          ]
        }
      ]
    },
    {
      "cell_type": "code",
      "metadata": {
        "id": "Jet8UiuBZtwJ"
      },
      "source": [
        "#X = tf.image.resize(X, [360, 360])\n",
        "#print(X.shape)"
      ],
      "execution_count": null,
      "outputs": []
    },
    {
      "cell_type": "code",
      "metadata": {
        "colab": {
          "base_uri": "https://localhost:8080/"
        },
        "id": "KJqNYGzK7PH6",
        "outputId": "ca7da8ec-c88c-4b19-9853-a7fe7e016e12"
      },
      "source": [
        "folds = StratifiedKFold(n_splits = 7, shuffle = True)\n",
        "\n",
        "#X_train = np.expand_dims(X_train, axis = -1) * 255 # expanding dimensions\n",
        "\n",
        "for train_index, test_index in folds.split(X, y):\n",
        "    input_cv, input_test, targets_cv, targets_test = X[train_index], X[test_index], y[train_index], y[test_index]\n",
        "\n",
        "print(f'shape of input for CV is {input_cv.shape}')\n",
        "print(f'shape of input for testing is {input_test.shape}')\n",
        "\n",
        "#for train_ind, test_ind in folds.split(input_cv, targets_cv):\n",
        "    #x_train, x_test, y_train, y_test = input_cv[train_ind], input_cv[test_ind], targets_cv[train_ind], targets_cv[test_ind]\n",
        "\n",
        "#print(f'shape of input for training is {x_train.shape}')\n",
        "#print(f'shape of input for validation is {x_test.shape}')"
      ],
      "execution_count": null,
      "outputs": [
        {
          "output_type": "stream",
          "name": "stdout",
          "text": [
            "shape of input for CV is (14651, 358, 358, 3)\n",
            "shape of input for testing is (2441, 358, 358, 3)\n"
          ]
        }
      ]
    },
    {
      "cell_type": "code",
      "metadata": {
        "id": "f9ZGwUVi8LMu"
      },
      "source": [
        "learning_rate = 0.001\n",
        "weight_decay = 0.0001\n",
        "\n",
        "batch_size = 32\n",
        "num_epochs = 10"
      ],
      "execution_count": null,
      "outputs": []
    },
    {
      "cell_type": "code",
      "metadata": {
        "id": "Yk-EUvxroilE"
      },
      "source": [
        "IMG_SIZE = 300"
      ],
      "execution_count": null,
      "outputs": []
    },
    {
      "cell_type": "code",
      "metadata": {
        "colab": {
          "base_uri": "https://localhost:8080/"
        },
        "id": "A09X0vy3YIBZ",
        "outputId": "b2b8257b-813f-4fd8-c306-0d94814ceedc"
      },
      "source": [
        "size = (IMG_SIZE, IMG_SIZE)\n",
        "input_cv = input_cv[:, 30:330, 30:330, :]\n",
        "input_test = input_test[:, 30:330, 30:330, :]\n",
        "\n",
        "input_cv.shape"
      ],
      "execution_count": null,
      "outputs": [
        {
          "output_type": "execute_result",
          "data": {
            "text/plain": [
              "(14651, 300, 300, 3)"
            ]
          },
          "metadata": {},
          "execution_count": 6
        }
      ]
    },
    {
      "cell_type": "code",
      "metadata": {
        "id": "Zuj6IRaIRYBM"
      },
      "source": [
        "inp = tf.keras.layers.Input(shape=(IMG_SIZE, IMG_SIZE, 3))\n",
        "base_model = tf.keras.applications.EfficientNetB3(include_top=False, weights='imagenet', input_tensor=inp,\n",
        "                                          input_shape=(IMG_SIZE, IMG_SIZE, 3))\n",
        "\n",
        "last_conv_layer = base_model.get_layer('top_activation')\n",
        "\n",
        "x =  tf.keras.layers.GlobalAveragePooling2D()(last_conv_layer.output)\n",
        "x = tf.keras.layers.BatchNormalization()(x)\n",
        "x = tf.keras.layers.Dense(256, activation = 'relu', name = 'dense_layer')(x)\n",
        "x = tf.keras.layers.Dense(8, activation = 'softmax', name = 'prediction')(x)\n",
        "\n",
        "model = tf.keras.models.Model(inputs = inp, outputs = x)\n",
        "model.summary()"
      ],
      "execution_count": null,
      "outputs": []
    },
    {
      "cell_type": "code",
      "metadata": {
        "id": "8d6cyoB6bR3I"
      },
      "source": [
        "index = int(0.9 * len(model.layers))\n",
        "for layer in model.layers[:index]:\n",
        "  layer.trainable = False"
      ],
      "execution_count": null,
      "outputs": []
    },
    {
      "cell_type": "code",
      "metadata": {
        "id": "BSfOORHroeAN"
      },
      "source": [
        "#model = CNN_Network(img_shape)\n",
        "model.summary()"
      ],
      "execution_count": null,
      "outputs": []
    },
    {
      "cell_type": "code",
      "metadata": {
        "id": "v8DCdwY7otnA",
        "colab": {
          "base_uri": "https://localhost:8080/"
        },
        "outputId": "8875ad0e-3e18-4e7d-e3ff-bda24a344c62"
      },
      "source": [
        "model.compile(optimizer = tf.keras.optimizers.RMSprop(learning_rate = learning_rate), loss = 'sparse_categorical_crossentropy', metrics = 'accuracy')\n",
        "    \n",
        "fine_tune_epochs = 40\n",
        "history_fine = model.fit(input_cv, targets_cv, batch_size = 32,\n",
        "                              epochs = fine_tune_epochs,\n",
        "                              shuffle = True,\n",
        "                              validation_split = None)"
      ],
      "execution_count": null,
      "outputs": [
        {
          "output_type": "stream",
          "name": "stdout",
          "text": [
            "Epoch 1/40\n",
            "458/458 [==============================] - 89s 139ms/step - loss: 0.3762 - accuracy: 0.9030\n",
            "Epoch 2/40\n",
            "458/458 [==============================] - 63s 137ms/step - loss: 0.1847 - accuracy: 0.9497\n",
            "Epoch 3/40\n",
            "458/458 [==============================] - 63s 137ms/step - loss: 0.1859 - accuracy: 0.9599\n",
            "Epoch 4/40\n",
            "458/458 [==============================] - 63s 137ms/step - loss: 0.1608 - accuracy: 0.9662\n",
            "Epoch 5/40\n",
            "458/458 [==============================] - 63s 137ms/step - loss: 0.1039 - accuracy: 0.9718\n",
            "Epoch 6/40\n",
            "458/458 [==============================] - 63s 137ms/step - loss: 0.1016 - accuracy: 0.9750\n",
            "Epoch 7/40\n",
            "458/458 [==============================] - 63s 137ms/step - loss: 0.0909 - accuracy: 0.9771\n",
            "Epoch 8/40\n",
            "458/458 [==============================] - 63s 137ms/step - loss: 0.1220 - accuracy: 0.9799\n",
            "Epoch 9/40\n",
            "458/458 [==============================] - 63s 137ms/step - loss: 0.0896 - accuracy: 0.9821\n",
            "Epoch 10/40\n",
            "458/458 [==============================] - 63s 137ms/step - loss: 0.0571 - accuracy: 0.9830\n",
            "Epoch 11/40\n",
            "458/458 [==============================] - 63s 137ms/step - loss: 0.0781 - accuracy: 0.9851\n",
            "Epoch 12/40\n",
            "458/458 [==============================] - 63s 137ms/step - loss: 0.0677 - accuracy: 0.9851\n",
            "Epoch 13/40\n",
            "458/458 [==============================] - 63s 137ms/step - loss: 0.0975 - accuracy: 0.9862\n",
            "Epoch 14/40\n",
            "458/458 [==============================] - 63s 137ms/step - loss: 0.0651 - accuracy: 0.9874\n",
            "Epoch 15/40\n",
            "458/458 [==============================] - 63s 137ms/step - loss: 0.1020 - accuracy: 0.9870\n",
            "Epoch 16/40\n",
            "458/458 [==============================] - 63s 137ms/step - loss: 0.0503 - accuracy: 0.9902\n",
            "Epoch 17/40\n",
            "458/458 [==============================] - 63s 137ms/step - loss: 0.0421 - accuracy: 0.9896\n",
            "Epoch 18/40\n",
            "458/458 [==============================] - 63s 137ms/step - loss: 0.0546 - accuracy: 0.9896\n",
            "Epoch 19/40\n",
            "458/458 [==============================] - 63s 137ms/step - loss: 0.0801 - accuracy: 0.9900\n",
            "Epoch 20/40\n",
            "458/458 [==============================] - 63s 137ms/step - loss: 0.0512 - accuracy: 0.9898\n",
            "Epoch 21/40\n",
            "458/458 [==============================] - 63s 137ms/step - loss: 0.0512 - accuracy: 0.9921\n",
            "Epoch 22/40\n",
            "458/458 [==============================] - 63s 137ms/step - loss: 0.1131 - accuracy: 0.9910\n",
            "Epoch 23/40\n",
            "458/458 [==============================] - 63s 137ms/step - loss: 0.0739 - accuracy: 0.9898\n",
            "Epoch 24/40\n",
            "458/458 [==============================] - 63s 137ms/step - loss: 0.0367 - accuracy: 0.9911\n",
            "Epoch 25/40\n",
            "458/458 [==============================] - 63s 137ms/step - loss: 0.0543 - accuracy: 0.9920\n",
            "Epoch 26/40\n",
            "458/458 [==============================] - 63s 137ms/step - loss: 0.0662 - accuracy: 0.9922\n",
            "Epoch 27/40\n",
            "458/458 [==============================] - 63s 137ms/step - loss: 0.0331 - accuracy: 0.9932\n",
            "Epoch 28/40\n",
            "458/458 [==============================] - 63s 137ms/step - loss: 0.0340 - accuracy: 0.9928\n",
            "Epoch 29/40\n",
            "458/458 [==============================] - 63s 137ms/step - loss: 0.0634 - accuracy: 0.9929\n",
            "Epoch 30/40\n",
            "458/458 [==============================] - 63s 137ms/step - loss: 0.0333 - accuracy: 0.9929\n",
            "Epoch 31/40\n",
            "458/458 [==============================] - 63s 137ms/step - loss: 0.0308 - accuracy: 0.9934\n",
            "Epoch 32/40\n",
            "458/458 [==============================] - 63s 137ms/step - loss: 0.0682 - accuracy: 0.9934\n",
            "Epoch 33/40\n",
            "458/458 [==============================] - 63s 137ms/step - loss: 0.0522 - accuracy: 0.9941\n",
            "Epoch 34/40\n",
            "458/458 [==============================] - 63s 137ms/step - loss: 0.0359 - accuracy: 0.9935\n",
            "Epoch 35/40\n",
            "458/458 [==============================] - 63s 137ms/step - loss: 0.0431 - accuracy: 0.9935\n",
            "Epoch 36/40\n",
            "458/458 [==============================] - 63s 137ms/step - loss: 0.0623 - accuracy: 0.9934\n",
            "Epoch 37/40\n",
            "458/458 [==============================] - 63s 137ms/step - loss: 0.0425 - accuracy: 0.9949\n",
            "Epoch 38/40\n",
            "458/458 [==============================] - 63s 137ms/step - loss: 0.0615 - accuracy: 0.9954\n",
            "Epoch 39/40\n",
            "458/458 [==============================] - 63s 137ms/step - loss: 0.0392 - accuracy: 0.9948\n",
            "Epoch 40/40\n",
            "458/458 [==============================] - 63s 137ms/step - loss: 0.0626 - accuracy: 0.9942\n"
          ]
        }
      ]
    },
    {
      "cell_type": "code",
      "metadata": {
        "colab": {
          "base_uri": "https://localhost:8080/"
        },
        "id": "oNeabJn1ul8O",
        "outputId": "ca897794-2363-4412-9391-b2faa279592f"
      },
      "source": [
        "score = model.evaluate(input_test, targets_test)"
      ],
      "execution_count": null,
      "outputs": [
        {
          "output_type": "stream",
          "name": "stdout",
          "text": [
            "77/77 [==============================] - 11s 120ms/step - loss: 0.1196 - accuracy: 0.9848\n"
          ]
        }
      ]
    },
    {
      "cell_type": "code",
      "metadata": {
        "id": "aiWmP5ZGsAvG"
      },
      "source": [
        "def make_gradcam_heatmap(img_array, model, last_conv_layer_name, pred_index=None):\n",
        "    # First, we create a model that maps the input image to the activations\n",
        "    # of the last conv layer as well as the output predictions\n",
        "    grad_model = tf.keras.models.Model(\n",
        "        [model.inputs], [model.get_layer(last_conv_layer_name).output, model.output]\n",
        "    )\n",
        "\n",
        "    # Then, we compute the gradient of the top predicted class for our input image\n",
        "    # with respect to the activations of the last conv layer\n",
        "    with tf.GradientTape() as tape:\n",
        "        last_conv_layer_output, preds = grad_model(img_array)\n",
        "        if pred_index is None:\n",
        "            pred_index = tf.argmax(preds[0])\n",
        "        class_channel = preds[:, pred_index]\n",
        "\n",
        "    # This is the gradient of the output neuron (top predicted or chosen)\n",
        "    # with regard to the output feature map of the last conv layer\n",
        "    grads = tape.gradient(class_channel, last_conv_layer_output)\n",
        "\n",
        "    # This is a vector where each entry is the mean intensity of the gradient\n",
        "    # over a specific feature map channel\n",
        "    pooled_grads = tf.reduce_mean(grads, axis=(0, 1, 2))\n",
        "\n",
        "    # We multiply each channel in the feature map array\n",
        "    # by \"how important this channel is\" with regard to the top predicted class\n",
        "    # then sum all the channels to obtain the heatmap class activation\n",
        "    last_conv_layer_output = last_conv_layer_output[0]\n",
        "    heatmap = last_conv_layer_output @ pooled_grads[..., tf.newaxis]\n",
        "    heatmap = tf.squeeze(heatmap)\n",
        "\n",
        "    # For visualization purpose, we will also normalize the heatmap between 0 & 1\n",
        "    heatmap = tf.maximum(heatmap, 0) / tf.math.reduce_max(heatmap)\n",
        "    return heatmap.numpy()"
      ],
      "execution_count": null,
      "outputs": []
    },
    {
      "cell_type": "code",
      "metadata": {
        "id": "W8qaCZqNGb1d"
      },
      "source": [
        "model.layers[-1].activation = None\n",
        "\n",
        "last_conv_layer_name = 'top_conv'\n",
        "\n",
        "index = 1200\n",
        "\n",
        "img_array = np.expand_dims(input_test[index], axis = 0)\n",
        "preds = model.predict(img_array)\n",
        "\n",
        "# Generate class activation heatmap\n",
        "heatmap = make_gradcam_heatmap(img_array, model, last_conv_layer_name)\n",
        "\n",
        "#last_layer = model.get_layer(last_conv_layer_name)\n",
        "#s_model = tf.keras.models.Model([model.inputs], [last_layer.output, model.output])"
      ],
      "execution_count": null,
      "outputs": []
    },
    {
      "cell_type": "code",
      "metadata": {
        "colab": {
          "base_uri": "https://localhost:8080/",
          "height": 293
        },
        "id": "2pU7XsxTtkC6",
        "outputId": "8e788130-357e-4b10-8d43-01f02c69045b"
      },
      "source": [
        "# Display heatmap\n",
        "print(heatmap.shape)\n",
        "plt.matshow(heatmap)\n",
        "plt.show()"
      ],
      "execution_count": null,
      "outputs": [
        {
          "output_type": "stream",
          "name": "stdout",
          "text": [
            "(10, 10)\n"
          ]
        },
        {
          "output_type": "display_data",
          "data": {
            "image/png": "[encoded data removed]",
            "text/plain": [
              "<Figure size 288x288 with 1 Axes>"
            ]
          },
          "metadata": {
            "needs_background": "light"
          }
        }
      ]
    },
    {
      "cell_type": "code",
      "metadata": {
        "id": "1xa_UfUmvDfA"
      },
      "source": [
        "from IPython.display import Image, display\n",
        "import matplotlib.cm as cm\n",
        "from skimage.transform import resize"
      ],
      "execution_count": null,
      "outputs": []
    },
    {
      "cell_type": "code",
      "metadata": {
        "id": "7bEO5RX0wuGo"
      },
      "source": [
        "def save_and_display_gradcam(img, heatmap, cam_path=\"cam.jpg\", alpha=0.5):\n",
        "    \n",
        "    # Rescale heatmap to a range 0-255\n",
        "    heatmap = np.uint8(255 * heatmap)\n",
        "\n",
        "    # Use jet colormap to colorize heatmap\n",
        "    jet = cm.get_cmap(\"jet\")\n",
        "\n",
        "    # Use RGB values of the colormap\n",
        "    jet_colors = jet(np.arange(256))[:, :3]\n",
        "    jet_heatmap = jet_colors[heatmap]\n",
        "\n",
        "    # Create an image with RGB colorized heatmap\n",
        "    jet_heatmap = keras.preprocessing.image.array_to_img(jet_heatmap)\n",
        "    jet_heatmap = jet_heatmap.resize((img.shape[1], img.shape[0]))\n",
        "    jet_heatmap = keras.preprocessing.image.img_to_array(jet_heatmap)\n",
        "\n",
        "    # Superimpose the heatmap on original image\n",
        "    superimposed_img = jet_heatmap * alpha + img\n",
        "    superimposed_img = keras.preprocessing.image.array_to_img(superimposed_img)\n",
        "\n",
        "    jet_heatmap_path = 'heatmap.jpg'\n",
        "\n",
        "    # Save the superimposed image\n",
        "    superimposed_img.save(cam_path)\n",
        "\n",
        "    jet_heatmap1 = keras.preprocessing.image.array_to_img(jet_heatmap)\n",
        "    jet_heatmap1.save(jet_heatmap_path)\n",
        "\n",
        "    # Display Grad CAM\n",
        "    display(Image(cam_path))\n",
        "    display(Image(jet_heatmap_path))"
      ],
      "execution_count": null,
      "outputs": []
    },
    {
      "cell_type": "code",
      "metadata": {
        "colab": {
          "base_uri": "https://localhost:8080/",
          "height": 875
        },
        "id": "ghxX0OPuw59e",
        "outputId": "836020d5-41ab-4931-f8a5-33a4e10a6d5a"
      },
      "source": [
        "save_and_display_gradcam(np.squeeze(img_array), heatmap)\n",
        "plt.matshow(np.squeeze(img_array))\n",
        "plt.show()"
      ],
      "execution_count": null,
      "outputs": [
        {
          "output_type": "display_data",
          "data": {
            "image/jpeg": "[encoded data removed]",
            "text/plain": [
              "<IPython.core.display.Image object>"
            ]
          },
          "metadata": {}
        },
        {
          "output_type": "display_data",
          "data": {
            "image/jpeg": "[encoded data removed]",
            "text/plain": [
              "<IPython.core.display.Image object>"
            ]
          },
          "metadata": {}
        },
        {
          "output_type": "display_data",
          "data": {
            "image/png": "[encoded data removed]",
            "text/plain": [
              "<Figure size 288x288 with 1 Axes>"
            ]
          },
          "metadata": {
            "needs_background": "light"
          }
        }
      ]
    }
  ]
}